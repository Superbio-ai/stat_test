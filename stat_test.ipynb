{
 "cells": [
  {
   "cell_type": "code",
   "execution_count": 1,
   "id": "3c3f1323",
   "metadata": {},
   "outputs": [],
   "source": [
    "from scipy.stats import mannwhitneyu\n",
    "import numpy as np\n",
    "from scipy import stats\n",
    "import matplotlib.pyplot as plt\n",
    "import pandas as pd"
   ]
  },
  {
   "cell_type": "code",
   "execution_count": 2,
   "id": "8640e36b",
   "metadata": {},
   "outputs": [],
   "source": [
    "group1 = np.array([20, 23, 21, 25, 18, 17, 18, 24, 20, 24, 23, 19])\n",
    "group2 = np.array([24, 25, 21, 22, 23, 18, 17, 28, 24, 27, 21, 23])"
   ]
  },
  {
   "cell_type": "code",
   "execution_count": 8,
   "id": "4bd93464",
   "metadata": {},
   "outputs": [
    {
     "name": "stdout",
     "output_type": "stream",
     "text": [
      "50.0\n",
      "0.21138945901258455\n"
     ]
    }
   ],
   "source": [
    "stat, p_value = mannwhitneyu(group1, group2, alternative='two-sided')\n",
    "print(stat)\n",
    "print(p_value)"
   ]
  },
  {
   "cell_type": "markdown",
   "id": "7772f2f3",
   "metadata": {},
   "source": [
    "### Descriptive Stats"
   ]
  },
  {
   "cell_type": "code",
   "execution_count": 20,
   "id": "e37954fa",
   "metadata": {},
   "outputs": [],
   "source": [
    "temp = stats.describe(group1)"
   ]
  },
  {
   "cell_type": "code",
   "execution_count": 23,
   "id": "c5d08eda",
   "metadata": {},
   "outputs": [
    {
     "data": {
      "text/plain": [
       "DescribeResult(nobs=12, minmax=(17, 25), mean=21.0, variance=7.454545454545453, skewness=0.027991172768634366, kurtosis=-1.4187983343248067)"
      ]
     },
     "execution_count": 23,
     "metadata": {},
     "output_type": "execute_result"
    }
   ],
   "source": [
    "temp"
   ]
  },
  {
   "cell_type": "code",
   "execution_count": 24,
   "id": "8477a8cb",
   "metadata": {},
   "outputs": [
    {
     "data": {
      "text/plain": [
       "21.0"
      ]
     },
     "execution_count": 24,
     "metadata": {},
     "output_type": "execute_result"
    }
   ],
   "source": [
    "temp[2]"
   ]
  },
  {
   "cell_type": "code",
   "execution_count": 12,
   "id": "e0ea5cd9",
   "metadata": {},
   "outputs": [],
   "source": [
    "temp = np.quantile(group1, [0, 0.25,0.5,0.75, 1])\n",
    "temp2 = np.quantile(group2, [0, 0.25,0.5,0.75, 1])"
   ]
  },
  {
   "cell_type": "code",
   "execution_count": 19,
   "id": "e4254336",
   "metadata": {},
   "outputs": [
    {
     "data": {
      "text/html": [
       "<div>\n",
       "<style scoped>\n",
       "    .dataframe tbody tr th:only-of-type {\n",
       "        vertical-align: middle;\n",
       "    }\n",
       "\n",
       "    .dataframe tbody tr th {\n",
       "        vertical-align: top;\n",
       "    }\n",
       "\n",
       "    .dataframe thead th {\n",
       "        text-align: right;\n",
       "    }\n",
       "</style>\n",
       "<table border=\"1\" class=\"dataframe\">\n",
       "  <thead>\n",
       "    <tr style=\"text-align: right;\">\n",
       "      <th></th>\n",
       "      <th>Group1</th>\n",
       "      <th>Group2</th>\n",
       "    </tr>\n",
       "  </thead>\n",
       "  <tbody>\n",
       "    <tr>\n",
       "      <th>Min</th>\n",
       "      <td>17.00</td>\n",
       "      <td>17.00</td>\n",
       "    </tr>\n",
       "    <tr>\n",
       "      <th>Lower Quartile</th>\n",
       "      <td>18.75</td>\n",
       "      <td>21.00</td>\n",
       "    </tr>\n",
       "    <tr>\n",
       "      <th>Median</th>\n",
       "      <td>20.50</td>\n",
       "      <td>23.00</td>\n",
       "    </tr>\n",
       "    <tr>\n",
       "      <th>Upper Quartile</th>\n",
       "      <td>23.25</td>\n",
       "      <td>24.25</td>\n",
       "    </tr>\n",
       "    <tr>\n",
       "      <th>Max</th>\n",
       "      <td>25.00</td>\n",
       "      <td>28.00</td>\n",
       "    </tr>\n",
       "  </tbody>\n",
       "</table>\n",
       "</div>"
      ],
      "text/plain": [
       "                Group1  Group2\n",
       "Min              17.00   17.00\n",
       "Lower Quartile   18.75   21.00\n",
       "Median           20.50   23.00\n",
       "Upper Quartile   23.25   24.25\n",
       "Max              25.00   28.00"
      ]
     },
     "execution_count": 19,
     "metadata": {},
     "output_type": "execute_result"
    }
   ],
   "source": [
    "pd.DataFrame([temp,temp2], columns = ['Min','Lower Quartile','Median','Upper Quartile','Max'], index = ['Group1','Group2']).T"
   ]
  },
  {
   "cell_type": "code",
   "execution_count": 44,
   "id": "d0a0425d",
   "metadata": {},
   "outputs": [
    {
     "name": "stderr",
     "output_type": "stream",
     "text": [
      "C:\\Users\\sionp\\AppData\\Local\\Temp\\ipykernel_35712\\4059418124.py:3: FutureWarning: Unlike other reduction functions (e.g. `skew`, `kurtosis`), the default behavior of `mode` typically preserves the axis it acts along. In SciPy 1.11.0, this behavior will change: the default value of `keepdims` will become False, the `axis` over which the statistic is taken will be eliminated, and the value None will no longer be accepted. Set `keepdims` to True or False to avoid this warning.\n",
      "  mode1 = stats.mode(group1)\n",
      "C:\\Users\\sionp\\AppData\\Local\\Temp\\ipykernel_35712\\4059418124.py:4: FutureWarning: Unlike other reduction functions (e.g. `skew`, `kurtosis`), the default behavior of `mode` typically preserves the axis it acts along. In SciPy 1.11.0, this behavior will change: the default value of `keepdims` will become False, the `axis` over which the statistic is taken will be eliminated, and the value None will no longer be accepted. Set `keepdims` to True or False to avoid this warning.\n",
      "  mode2 = stats.mode(group2)\n"
     ]
    }
   ],
   "source": [
    "descriptive1 = stats.describe(group1)\n",
    "descriptive2 = stats.describe(group2)\n",
    "mode1 = stats.mode(group1)\n",
    "mode2 = stats.mode(group2)\n",
    "input_metrics1 = [descriptive1[0], 1, str(round((1/descriptive1[0])*100,1))+\"%\", descriptive1[2], mode1, descriptive1[3], descriptive1[3]**(0.5), descriptive1[4], descriptive1[5]]\n",
    "input_metrics2 = [descriptive2[0], 0, str((0/descriptive2[0])*100)+\"%\", descriptive2[2], mode2, descriptive2[3], descriptive2[3]**(0.5), descriptive2[4], descriptive2[5]]"
   ]
  },
  {
   "cell_type": "code",
   "execution_count": 46,
   "id": "e4021005",
   "metadata": {},
   "outputs": [
    {
     "data": {
      "text/html": [
       "<div>\n",
       "<style scoped>\n",
       "    .dataframe tbody tr th:only-of-type {\n",
       "        vertical-align: middle;\n",
       "    }\n",
       "\n",
       "    .dataframe tbody tr th {\n",
       "        vertical-align: top;\n",
       "    }\n",
       "\n",
       "    .dataframe thead th {\n",
       "        text-align: right;\n",
       "    }\n",
       "</style>\n",
       "<table border=\"1\" class=\"dataframe\">\n",
       "  <thead>\n",
       "    <tr style=\"text-align: right;\">\n",
       "      <th></th>\n",
       "      <th>Group1</th>\n",
       "      <th>Group2</th>\n",
       "    </tr>\n",
       "  </thead>\n",
       "  <tbody>\n",
       "    <tr>\n",
       "      <th>Observations</th>\n",
       "      <td>12</td>\n",
       "      <td>12</td>\n",
       "    </tr>\n",
       "    <tr>\n",
       "      <th>Missing Count</th>\n",
       "      <td>1</td>\n",
       "      <td>0</td>\n",
       "    </tr>\n",
       "    <tr>\n",
       "      <th>Missing Percent</th>\n",
       "      <td>8.3%</td>\n",
       "      <td>0.0%</td>\n",
       "    </tr>\n",
       "    <tr>\n",
       "      <th>Mean</th>\n",
       "      <td>21.0</td>\n",
       "      <td>22.75</td>\n",
       "    </tr>\n",
       "    <tr>\n",
       "      <th>Mode</th>\n",
       "      <td>([18], [2])</td>\n",
       "      <td>([21], [2])</td>\n",
       "    </tr>\n",
       "    <tr>\n",
       "      <th>Variance</th>\n",
       "      <td>7.454545</td>\n",
       "      <td>10.568182</td>\n",
       "    </tr>\n",
       "    <tr>\n",
       "      <th>Standard Deviation</th>\n",
       "      <td>2.730301</td>\n",
       "      <td>3.250874</td>\n",
       "    </tr>\n",
       "    <tr>\n",
       "      <th>Skewness</th>\n",
       "      <td>0.027991</td>\n",
       "      <td>-0.197955</td>\n",
       "    </tr>\n",
       "    <tr>\n",
       "      <th>Kurtosis</th>\n",
       "      <td>-1.418798</td>\n",
       "      <td>-0.568991</td>\n",
       "    </tr>\n",
       "  </tbody>\n",
       "</table>\n",
       "</div>"
      ],
      "text/plain": [
       "                         Group1       Group2\n",
       "Observations                 12           12\n",
       "Missing Count                 1            0\n",
       "Missing Percent            8.3%         0.0%\n",
       "Mean                       21.0        22.75\n",
       "Mode                ([18], [2])  ([21], [2])\n",
       "Variance               7.454545    10.568182\n",
       "Standard Deviation     2.730301     3.250874\n",
       "Skewness               0.027991    -0.197955\n",
       "Kurtosis              -1.418798    -0.568991"
      ]
     },
     "execution_count": 46,
     "metadata": {},
     "output_type": "execute_result"
    }
   ],
   "source": [
    "pd.DataFrame([input_metrics1,input_metrics2], columns = ['Observations','Missing Count','Missing Percent','Mean','Mode','Variance','Standard Deviation','Skewness','Kurtosis'], index = [\"Group1\",\"Group2\"]).T"
   ]
  },
  {
   "cell_type": "code",
   "execution_count": 6,
   "id": "90e6c37b",
   "metadata": {
    "scrolled": true
   },
   "outputs": [
    {
     "data": {
      "text/plain": [
       "{'whiskers': [<matplotlib.lines.Line2D at 0x296532571f0>,\n",
       "  <matplotlib.lines.Line2D at 0x29653264670>,\n",
       "  <matplotlib.lines.Line2D at 0x29653276610>,\n",
       "  <matplotlib.lines.Line2D at 0x296532768b0>],\n",
       " 'caps': [<matplotlib.lines.Line2D at 0x296532648b0>,\n",
       "  <matplotlib.lines.Line2D at 0x29653264b50>,\n",
       "  <matplotlib.lines.Line2D at 0x29653276b50>,\n",
       "  <matplotlib.lines.Line2D at 0x29653276df0>],\n",
       " 'boxes': [<matplotlib.lines.Line2D at 0x29653264490>,\n",
       "  <matplotlib.lines.Line2D at 0x29653276370>],\n",
       " 'medians': [<matplotlib.lines.Line2D at 0x29653264df0>,\n",
       "  <matplotlib.lines.Line2D at 0x296532830d0>],\n",
       " 'fliers': [<matplotlib.lines.Line2D at 0x296532760d0>,\n",
       "  <matplotlib.lines.Line2D at 0x29653283370>],\n",
       " 'means': []}"
      ]
     },
     "execution_count": 6,
     "metadata": {},
     "output_type": "execute_result"
    },
    {
     "data": {
      "image/png": "[encoded data removed]",
      "text/plain": [
       "<Figure size 640x480 with 1 Axes>"
      ]
     },
     "metadata": {},
     "output_type": "display_data"
    }
   ],
   "source": [
    "plt.boxplot([group1,group2], vert=True, labels=['Feature 1','Group2'])"
   ]
  },
  {
   "cell_type": "code",
   "execution_count": 21,
   "id": "60b83eb6",
   "metadata": {},
   "outputs": [
    {
     "name": "stdout",
     "output_type": "stream",
     "text": [
      "Ranked data: ModeResult(mode=array([18]), count=array([2]))\n"
     ]
    },
    {
     "name": "stderr",
     "output_type": "stream",
     "text": [
      "C:\\Users\\sionp\\AppData\\Local\\Temp\\ipykernel_23888\\3725041721.py:2: FutureWarning: Unlike other reduction functions (e.g. `skew`, `kurtosis`), the default behavior of `mode` typically preserves the axis it acts along. In SciPy 1.11.0, this behavior will change: the default value of `keepdims` will become False, the `axis` over which the statistic is taken will be eliminated, and the value None will no longer be accepted. Set `keepdims` to True or False to avoid this warning.\n",
      "  print(f\"Ranked data: {stats.mode(group1)}\")\n"
     ]
    }
   ],
   "source": [
    "#median\n",
    "print(f\"Ranked data: {stats.mode(group1)}\")\n",
    "#std"
   ]
  },
  {
   "cell_type": "code",
   "execution_count": 18,
   "id": "6b106445",
   "metadata": {},
   "outputs": [
    {
     "name": "stdout",
     "output_type": "stream",
     "text": [
      "Ranked data: [ 5.5  8.5  7.  12.   2.5  1.   2.5 10.5  5.5 10.5  8.5  4. ]\n"
     ]
    }
   ],
   "source": [
    "print(f\"Ranked data: {stats.rankdata(group1)}\")"
   ]
  },
  {
   "cell_type": "code",
   "execution_count": 19,
   "id": "0b8a673d",
   "metadata": {},
   "outputs": [
    {
     "name": "stdout",
     "output_type": "stream",
     "text": [
      "Shannon entropy: 2.4771361260714277\n"
     ]
    }
   ],
   "source": [
    "print(f\"Shannon entropy: {stats.entropy(group1)}\")"
   ]
  },
  {
   "cell_type": "markdown",
   "id": "cf401983",
   "metadata": {},
   "source": [
    "### Frequency Stats"
   ]
  },
  {
   "cell_type": "code",
   "execution_count": 37,
   "id": "b414e47b",
   "metadata": {},
   "outputs": [
    {
     "data": {
      "text/plain": [
       "(16.789473684210527, 25.2105263157895)"
      ]
     },
     "execution_count": 37,
     "metadata": {},
     "output_type": "execute_result"
    },
    {
     "data": {
      "image/png": "[encoded data removed]",
      "text/plain": [
       "<Figure size 1000x400 with 2 Axes>"
      ]
     },
     "metadata": {},
     "output_type": "display_data"
    }
   ],
   "source": [
    "#cumulative frequency\n",
    "bins = 20\n",
    "res = stats.cumfreq(group1, numbins=bins)\n",
    "x = res.lowerlimit + np.linspace(0, res.binsize*res.cumcount.size,\n",
    "                                 res.cumcount.size)\n",
    "fig = plt.figure(figsize=(10, 4))\n",
    "ax1 = fig.add_subplot(1, 2, 1)\n",
    "ax2 = fig.add_subplot(1, 2, 2)\n",
    "ax1.hist(group1, bins=bins)\n",
    "ax1.set_title('Relative frequency histogram')\n",
    "ax2.bar(x, res.cumcount, width=res.binsize)\n",
    "ax2.set_title('Cumulative histogram')\n",
    "ax2.set_xlim([x.min(), x.max()])"
   ]
  },
  {
   "cell_type": "code",
   "execution_count": 32,
   "id": "8409533f",
   "metadata": {},
   "outputs": [
    {
     "data": {
      "image/png": "[encoded data removed]",
      "text/plain": [
       "<Figure size 1000x400 with 1 Axes>"
      ]
     },
     "metadata": {},
     "output_type": "display_data"
    }
   ],
   "source": [
    "bins = 20\n",
    "res = stats.cumfreq(group1, numbins=bins)\n",
    "x = res.lowerlimit + np.linspace(0, res.binsize*res.cumcount.size,\n",
    "                                 res.cumcount.size)\n",
    "fig = plt.figure(figsize=(10, 4))\n",
    "ax1 = fig.add_subplot(1, 2, 1)\n",
    "ax1.hist(group1, bins=bins)\n",
    "ax1.set_title('Relative frequency histogram')\n",
    "\n",
    "x_normal = np.linspace(min(group1), max(group1), 1000) \n",
    "y_normal = stats.norm.pdf(x_normal, np.mean(group1), np.std(group1))*len(group1)\n",
    "ax1.plot(x_normal, y_normal, color='red', label='Normal Distribution')\n",
    "ax1.legend()\n",
    "ax1.set_xlabel('Value')\n",
    "ax1.set_ylabel('Frequency')\n",
    "plt.show()"
   ]
  },
  {
   "cell_type": "markdown",
   "id": "2059f4a7",
   "metadata": {},
   "source": [
    "### Hypothesis Tests (One Sample)\n",
    "\n",
    "One sample tests are typically used to assess whether a single sample was drawn from a specified distribution or a distribution with specified properties (e.g. zero mean)."
   ]
  },
  {
   "cell_type": "code",
   "execution_count": 32,
   "id": "ebc29b9d",
   "metadata": {},
   "outputs": [
    {
     "data": {
      "text/plain": [
       "Ttest_1sampResult(statistic=1.2687616393795076, pvalue=0.23071721010524696)"
      ]
     },
     "execution_count": 32,
     "metadata": {},
     "output_type": "execute_result"
    }
   ],
   "source": [
    "#Suppose we wish to test the null hypothesis that the mean of a population is equal to 20.\n",
    "#We choose a confidence level of 99%;\n",
    "#that is, we will reject the null hypothesis in favor of the alternative if the p-value is less than 0.01.\n",
    "popmean = 20\n",
    "stats.ttest_1samp(group1, popmean=popmean)"
   ]
  },
  {
   "cell_type": "code",
   "execution_count": 34,
   "id": "9528c095",
   "metadata": {},
   "outputs": [
    {
     "data": {
      "text/plain": [
       "BinomTestResult(k=3, n=15, alternative='greater', proportion_estimate=0.2, pvalue=0.18406106910639122)"
      ]
     },
     "execution_count": 34,
     "metadata": {},
     "output_type": "execute_result"
    }
   ],
   "source": [
    "#A car manufacturer claims that no more than 10% of their cars are unsafe.\n",
    "#15 cars are inspected for safety, 3 were found to be unsafe.\n",
    "#Test the manufacturer’s claim:\n",
    "stats.binomtest(3, n=15, p=0.1, alternative='greater')"
   ]
  },
  {
   "cell_type": "code",
   "execution_count": 36,
   "id": "28f5aaca",
   "metadata": {},
   "outputs": [
    {
     "data": {
      "text/plain": [
       "SkewtestResult(statistic=0.052913922904625196, pvalue=0.9578004910640951)"
      ]
     },
     "execution_count": 36,
     "metadata": {},
     "output_type": "execute_result"
    }
   ],
   "source": [
    "#Because normal distributions have zero skewness,\n",
    "#the magnitude of this statistic tends to be low for samples drawn from a normal distribution.\n",
    "stats.skewtest(group1)"
   ]
  },
  {
   "cell_type": "code",
   "execution_count": 3,
   "id": "e5079aa6",
   "metadata": {},
   "outputs": [
    {
     "name": "stderr",
     "output_type": "stream",
     "text": [
      "S:\\ProgramData\\Anaconda3\\envs\\scvi_destvi_x\\lib\\site-packages\\scipy\\stats\\_stats_py.py:1772: UserWarning: kurtosistest only valid for n>=20 ... continuing anyway, n=12\n",
      "  warnings.warn(\"kurtosistest only valid for n>=20 ... continuing \"\n"
     ]
    }
   ],
   "source": [
    "skew1 = stats.skewtest(group1)\n",
    "kurtosis1 = stats.kurtosistest(group1)\n",
    "normal1 = stats.normaltest(group1)\n",
    "if len(group1) >= 2000:\n",
    "    jb1 = stats.jarque_bera(group1)\n",
    "shap1 = stats.shapiro(group1)"
   ]
  },
  {
   "cell_type": "code",
   "execution_count": 4,
   "id": "17f3f139",
   "metadata": {},
   "outputs": [],
   "source": [
    "import pandas as pd"
   ]
  },
  {
   "cell_type": "code",
   "execution_count": 7,
   "id": "727d5c37",
   "metadata": {},
   "outputs": [
    {
     "name": "stderr",
     "output_type": "stream",
     "text": [
      "S:\\ProgramData\\Anaconda3\\envs\\scvi_destvi_x\\lib\\site-packages\\scipy\\stats\\_stats_py.py:1772: UserWarning: kurtosistest only valid for n>=20 ... continuing anyway, n=12\n",
      "  warnings.warn(\"kurtosistest only valid for n>=20 ... continuing \"\n"
     ]
    }
   ],
   "source": [
    "skew2 = stats.skewtest(group2)\n",
    "normal2 = stats.normaltest(group2)\n",
    "shap2 = stats.shapiro(group2)"
   ]
  },
  {
   "cell_type": "code",
   "execution_count": 10,
   "id": "dd07da9f",
   "metadata": {},
   "outputs": [],
   "source": [
    "norm_metrics1 = pd.DataFrame([skew1, normal1, shap1], index = ['Skew', 'Normal', 'Shapiro'])"
   ]
  },
  {
   "cell_type": "code",
   "execution_count": 11,
   "id": "363fd8eb",
   "metadata": {},
   "outputs": [],
   "source": [
    "norm_metrics2 = pd.DataFrame([skew2,normal2,shap2], index = ['Skew', 'Normal', 'Shapiro'])"
   ]
  },
  {
   "cell_type": "code",
   "execution_count": 15,
   "id": "688ca939",
   "metadata": {},
   "outputs": [],
   "source": [
    "concatenated_df = pd.concat([norm_metrics1, norm_metrics2], axis=1)"
   ]
  },
  {
   "cell_type": "code",
   "execution_count": 16,
   "id": "06629044",
   "metadata": {},
   "outputs": [
    {
     "data": {
      "text/html": [
       "<div>\n",
       "<style scoped>\n",
       "    .dataframe tbody tr th:only-of-type {\n",
       "        vertical-align: middle;\n",
       "    }\n",
       "\n",
       "    .dataframe tbody tr th {\n",
       "        vertical-align: top;\n",
       "    }\n",
       "\n",
       "    .dataframe thead th {\n",
       "        text-align: right;\n",
       "    }\n",
       "</style>\n",
       "<table border=\"1\" class=\"dataframe\">\n",
       "  <thead>\n",
       "    <tr style=\"text-align: right;\">\n",
       "      <th></th>\n",
       "      <th>statistic</th>\n",
       "      <th>pvalue</th>\n",
       "      <th>statistic</th>\n",
       "      <th>pvalue</th>\n",
       "    </tr>\n",
       "  </thead>\n",
       "  <tbody>\n",
       "    <tr>\n",
       "      <th>Skew</th>\n",
       "      <td>0.052914</td>\n",
       "      <td>0.957800</td>\n",
       "      <td>-0.373414</td>\n",
       "      <td>0.708841</td>\n",
       "    </tr>\n",
       "    <tr>\n",
       "      <th>Normal</th>\n",
       "      <td>2.793190</td>\n",
       "      <td>0.247438</td>\n",
       "      <td>0.143148</td>\n",
       "      <td>0.930927</td>\n",
       "    </tr>\n",
       "    <tr>\n",
       "      <th>Shapiro</th>\n",
       "      <td>0.928410</td>\n",
       "      <td>0.363564</td>\n",
       "      <td>0.969191</td>\n",
       "      <td>0.902151</td>\n",
       "    </tr>\n",
       "  </tbody>\n",
       "</table>\n",
       "</div>"
      ],
      "text/plain": [
       "         statistic    pvalue  statistic    pvalue\n",
       "Skew      0.052914  0.957800  -0.373414  0.708841\n",
       "Normal    2.793190  0.247438   0.143148  0.930927\n",
       "Shapiro   0.928410  0.363564   0.969191  0.902151"
      ]
     },
     "execution_count": 16,
     "metadata": {},
     "output_type": "execute_result"
    }
   ],
   "source": [
    "concatenated_df"
   ]
  },
  {
   "cell_type": "code",
   "execution_count": 17,
   "id": "ef52f840",
   "metadata": {},
   "outputs": [],
   "source": [
    "concatenated_df.columns = pd.MultiIndex.from_tuples(\n",
    "    [(\"Group1\", \"statistic\"), (\"Group1\", \"pvalue\"),\n",
    "     (\"Group2\", \"statistic\"), (\"Group2\", \"pvalue\")],\n",
    "    names=[\"Group\", \"Metric\"]\n",
    ")"
   ]
  },
  {
   "cell_type": "code",
   "execution_count": 18,
   "id": "25b0e45b",
   "metadata": {},
   "outputs": [
    {
     "data": {
      "text/html": [
       "<div>\n",
       "<style scoped>\n",
       "    .dataframe tbody tr th:only-of-type {\n",
       "        vertical-align: middle;\n",
       "    }\n",
       "\n",
       "    .dataframe tbody tr th {\n",
       "        vertical-align: top;\n",
       "    }\n",
       "\n",
       "    .dataframe thead tr th {\n",
       "        text-align: left;\n",
       "    }\n",
       "</style>\n",
       "<table border=\"1\" class=\"dataframe\">\n",
       "  <thead>\n",
       "    <tr>\n",
       "      <th>Group</th>\n",
       "      <th colspan=\"2\" halign=\"left\">Group1</th>\n",
       "      <th colspan=\"2\" halign=\"left\">Group2</th>\n",
       "    </tr>\n",
       "    <tr>\n",
       "      <th>Metric</th>\n",
       "      <th>statistic</th>\n",
       "      <th>pvalue</th>\n",
       "      <th>statistic</th>\n",
       "      <th>pvalue</th>\n",
       "    </tr>\n",
       "  </thead>\n",
       "  <tbody>\n",
       "    <tr>\n",
       "      <th>Skew</th>\n",
       "      <td>0.052914</td>\n",
       "      <td>0.957800</td>\n",
       "      <td>-0.373414</td>\n",
       "      <td>0.708841</td>\n",
       "    </tr>\n",
       "    <tr>\n",
       "      <th>Normal</th>\n",
       "      <td>2.793190</td>\n",
       "      <td>0.247438</td>\n",
       "      <td>0.143148</td>\n",
       "      <td>0.930927</td>\n",
       "    </tr>\n",
       "    <tr>\n",
       "      <th>Shapiro</th>\n",
       "      <td>0.928410</td>\n",
       "      <td>0.363564</td>\n",
       "      <td>0.969191</td>\n",
       "      <td>0.902151</td>\n",
       "    </tr>\n",
       "  </tbody>\n",
       "</table>\n",
       "</div>"
      ],
      "text/plain": [
       "Group      Group1              Group2          \n",
       "Metric  statistic    pvalue statistic    pvalue\n",
       "Skew     0.052914  0.957800 -0.373414  0.708841\n",
       "Normal   2.793190  0.247438  0.143148  0.930927\n",
       "Shapiro  0.928410  0.363564  0.969191  0.902151"
      ]
     },
     "execution_count": 18,
     "metadata": {},
     "output_type": "execute_result"
    }
   ],
   "source": [
    "concatenated_df"
   ]
  },
  {
   "cell_type": "code",
   "execution_count": 37,
   "id": "98ec4b9a",
   "metadata": {},
   "outputs": [
    {
     "name": "stderr",
     "output_type": "stream",
     "text": [
      "S:\\ProgramData\\Anaconda3\\envs\\scvi_destvi_x\\lib\\site-packages\\scipy\\stats\\_stats_py.py:1772: UserWarning: kurtosistest only valid for n>=20 ... continuing anyway, n=11\n",
      "  warnings.warn(\"kurtosistest only valid for n>=20 ... continuing \"\n"
     ]
    },
    {
     "data": {
      "text/plain": [
       "KurtosistestResult(statistic=2.3048235214240873, pvalue=0.0211764592113868)"
      ]
     },
     "execution_count": 37,
     "metadata": {},
     "output_type": "execute_result"
    }
   ],
   "source": [
    "#Suppose we wish to infer from measurements whether the weights of adult human males in a medical study are not normally distributed [2].\n",
    "#The weights (lbs) are recorded in the array x below.\n",
    "x = np.array([148, 154, 158, 160, 161, 162, 166, 170, 182, 195, 236])\n",
    "stats.kurtosistest(x)"
   ]
  },
  {
   "cell_type": "code",
   "execution_count": 38,
   "id": "11046a14",
   "metadata": {},
   "outputs": [
    {
     "data": {
      "text/plain": [
       "NormaltestResult(statistic=13.034263121192582, pvalue=0.0014779023013100172)"
      ]
     },
     "execution_count": 38,
     "metadata": {},
     "output_type": "execute_result"
    }
   ],
   "source": [
    "# It is based on D’Agostino and Pearson’s [1], [2] test that combines skew and kurtosis to produce an omnibus test of normality.\n",
    "stats.normaltest(x)"
   ]
  },
  {
   "cell_type": "code",
   "execution_count": 39,
   "id": "170aec05",
   "metadata": {},
   "outputs": [
    {
     "data": {
      "text/plain": [
       "Jarque_beraResult(statistic=6.982848237344646, pvalue=0.030457466224581897)"
      ]
     },
     "execution_count": 39,
     "metadata": {},
     "output_type": "execute_result"
    }
   ],
   "source": [
    "#The Jarque-Bera test tests whether the sample data has the skewness and kurtosis matching a normal distribution.\n",
    "#Note that this test only works for a large enough number of data samples (>2000)\n",
    "#as the test statistic asymptotically has a Chi-squared distribution with 2 degrees of freedom.\n",
    "stats.jarque_bera(x)"
   ]
  },
  {
   "cell_type": "code",
   "execution_count": 40,
   "id": "8952cc5c",
   "metadata": {},
   "outputs": [
    {
     "data": {
      "text/plain": [
       "ShapiroResult(statistic=0.7888147830963135, pvalue=0.006703833118081093)"
      ]
     },
     "execution_count": 40,
     "metadata": {},
     "output_type": "execute_result"
    }
   ],
   "source": [
    "#The Shapiro-Wilk test tests the null hypothesis that the data was drawn from a normal distribution.\n",
    "stats.shapiro(x)"
   ]
  },
  {
   "cell_type": "code",
   "execution_count": 43,
   "id": "741c0184",
   "metadata": {},
   "outputs": [
    {
     "name": "stdout",
     "output_type": "stream",
     "text": [
      "Normal distribution test: AndersonResult(statistic=0.9467718795988862, critical_values=array([0.498, 0.567, 0.68 , 0.793, 0.944]), significance_level=array([15. , 10. ,  5. ,  2.5,  1. ]))\n",
      "Exponential distribution test: AndersonResult(statistic=3.993905827607856, critical_values=array([0.874, 1.022, 1.272, 1.523, 1.856]), significance_level=array([15. , 10. ,  5. ,  2.5,  1. ]))\n",
      "Logistic distribution test: AndersonResult(statistic=0.6879580717834308, critical_values=array([0.417, 0.55 , 0.645, 0.752, 0.886, 0.988]), significance_level=array([25. , 10. ,  5. ,  2.5,  1. ,  0.5]))\n",
      "Gumbel distribution test: AndersonResult(statistic=1.367592706640556, critical_values=array([0.447, 0.601, 0.714, 0.827, 0.979]), significance_level=array([25. , 10. ,  5. ,  2.5,  1. ]))\n",
      "Gumbel extreme value distribution test: AndersonResult(statistic=1.367592706640556, critical_values=array([0.447, 0.601, 0.714, 0.827, 0.979]), significance_level=array([25. , 10. ,  5. ,  2.5,  1. ]))\n"
     ]
    }
   ],
   "source": [
    "#The Anderson-Darling test tests the null hypothesis that a sample is drawn from a population that follows a particular distribution.\n",
    "#For the Anderson-Darling test, the critical values depend on which distribution is being tested against.\n",
    "#This function works for normal, exponential, logistic, weibull_min, or Gumbel (Extreme Value Type I) distributions.\n",
    "#‘norm’, ‘expon’, ‘logistic’, ‘gumbel’, ‘gumbel_l’, ‘gumbel_r’, ‘extreme1’, ‘weibull_min’}\n",
    "print(f\"Normal distribution test: {stats.anderson(x, dist='norm')}\")\n",
    "print(f\"Exponential distribution test: {stats.anderson(x, dist='expon')}\")\n",
    "print(f\"Logistic distribution test: {stats.anderson(x, dist='logistic')}\")\n",
    "print(f\"Gumbel distribution test: {stats.anderson(x, dist='gumbel')}\")\n",
    "print(f\"Gumbel extreme value distribution test: {stats.anderson(x, dist='extreme1')}\")"
   ]
  },
  {
   "cell_type": "code",
   "execution_count": 44,
   "id": "223fad44",
   "metadata": {},
   "outputs": [
    {
     "data": {
      "text/plain": [
       "CramerVonMisesResult(statistic=3.666666666666667, pvalue=0)"
      ]
     },
     "execution_count": 44,
     "metadata": {},
     "output_type": "execute_result"
    }
   ],
   "source": [
    "#This performs a test of the goodness of fit of a cumulative distribution function (cdf) \n",
    "#compared to the empirical distribution function of observed random variates that are assumed to be independent and identically distributed\n",
    "stats.cramervonmises(x, 'norm')   #here the distribution can be any in scipy.stats"
   ]
  },
  {
   "cell_type": "code",
   "execution_count": 46,
   "id": "8b119dd4",
   "metadata": {},
   "outputs": [
    {
     "data": {
      "text/plain": [
       "KstestResult(statistic=1.0, pvalue=0.0)"
      ]
     },
     "execution_count": 46,
     "metadata": {},
     "output_type": "execute_result"
    }
   ],
   "source": [
    "#Performs the one-sample Kolmogorov-Smirnov test for goodness of fit.\n",
    "#This test compares the underlying distribution F(x) of a sample against a given continuous distribution G(x).\n",
    "stats.ks_1samp(x, stats.norm.cdf)   #here the distribution can be any in scipy.stats\n",
    "#KS is often recommended"
   ]
  },
  {
   "cell_type": "code",
   "execution_count": 51,
   "id": "1c482797",
   "metadata": {},
   "outputs": [
    {
     "data": {
      "text/plain": [
       "Power_divergenceResult(statistic=228.23515947653874, pvalue=3.329558533884649e-49)"
      ]
     },
     "execution_count": 51,
     "metadata": {},
     "output_type": "execute_result"
    }
   ],
   "source": [
    "#The chi-square test tests the null hypothesis that the categorical data has the given frequencies.#\n",
    "f_exp = np.array([44, 24, 29, 3]) / 100 * 189\n",
    "f_obs = np.array([43, 52, 54, 40])\n",
    "stats.chisquare(f_obs=f_obs, f_exp=f_exp)"
   ]
  },
  {
   "cell_type": "code",
   "execution_count": 52,
   "id": "650a8430",
   "metadata": {},
   "outputs": [
    {
     "data": {
      "text/plain": [
       "Power_divergenceResult(statistic=228.23515947653874, pvalue=3.329558533884649e-49)"
      ]
     },
     "execution_count": 52,
     "metadata": {},
     "output_type": "execute_result"
    }
   ],
   "source": [
    "#This function tests the null hypothesis that the categorical data has the given frequencies,\n",
    "#using the Cressie-Read power divergence statistic.\n",
    "stats.power_divergence(f_obs=f_obs, f_exp=f_exp)"
   ]
  },
  {
   "cell_type": "markdown",
   "id": "491b27ed",
   "metadata": {},
   "source": [
    "### Hypothesis Tests (Paired samples)"
   ]
  },
  {
   "cell_type": "code",
   "execution_count": 53,
   "id": "2d214649",
   "metadata": {},
   "outputs": [
    {
     "data": {
      "text/plain": [
       "Ttest_relResult(statistic=-2.2444115437169927, pvalue=0.04634164859760412)"
      ]
     },
     "execution_count": 53,
     "metadata": {},
     "output_type": "execute_result"
    }
   ],
   "source": [
    "#This is a test for the null hypothesis that two related or repeated samples have identical average (expected) values.\n",
    "stats.ttest_rel(group1, group2)"
   ]
  },
  {
   "cell_type": "code",
   "execution_count": 54,
   "id": "c8b6418b",
   "metadata": {},
   "outputs": [
    {
     "name": "stderr",
     "output_type": "stream",
     "text": [
      "S:\\ProgramData\\Anaconda3\\envs\\scvi_destvi_x\\lib\\site-packages\\scipy\\stats\\_morestats.py:3337: UserWarning: Exact p-value calculation does not work if there are zeros. Switching to normal approximation.\n",
      "  warnings.warn(\"Exact p-value calculation does not work if there are \"\n"
     ]
    },
    {
     "data": {
      "text/plain": [
       "WilcoxonResult(statistic=10.5, pvalue=0.044065400736826854)"
      ]
     },
     "execution_count": 54,
     "metadata": {},
     "output_type": "execute_result"
    }
   ],
   "source": [
    "#The Wilcoxon signed-rank test tests the null hypothesis that two related paired samples come from the same distribution.\n",
    "#In particular, it tests whether the distribution of the differences x - y is symmetric about zero.\n",
    "#It is a non-parametric version of the paired T-test.\n",
    "stats.wilcoxon(group1, group2)"
   ]
  },
  {
   "cell_type": "markdown",
   "id": "84cdc238",
   "metadata": {},
   "source": [
    "### Association / Correlation Tests"
   ]
  },
  {
   "cell_type": "code",
   "execution_count": null,
   "id": "911b2545",
   "metadata": {},
   "outputs": [],
   "source": [
    "alternative = 'two-sided'\n",
    "metrics_out = []\n",
    "index_out = ['Pearson R','Linear Regression']\n",
    "metrics_out.append(stats.pearsonr(group1, group2, alternative = alternative))\n",
    "temp = stats.linregress(group1, group2, alternative = alternative)\n",
    "metrics_out.append((temp[2],temp[3]))"
   ]
  },
  {
   "cell_type": "code",
   "execution_count": 7,
   "id": "b9440e1e",
   "metadata": {},
   "outputs": [
    {
     "data": {
      "text/plain": [
       "0.03741819363309834"
      ]
     },
     "execution_count": 7,
     "metadata": {},
     "output_type": "execute_result"
    }
   ],
   "source": [
    "alternative = 'two-sided'\n",
    "metrics_out = []\n",
    "index_out = ['Spearman R','Siegel Slopes','Thiel Slopes']\n",
    "metrics_out.append(stats.spearmanr(group1, group2, alternative = alternative))\n",
    "metrics_out.append(stats.siegelslopes(group1, group2, alternative = alternative))   #like linear regression, but ignores outliers\n",
    "metrics_out.append(stats.thielslopes(group1, group2, alternative = alternative))"
   ]
  },
  {
   "cell_type": "code",
   "execution_count": null,
   "id": "878da6ac",
   "metadata": {},
   "outputs": [],
   "source": [
    "temp"
   ]
  },
  {
   "cell_type": "code",
   "execution_count": 9,
   "id": "fc9200b8",
   "metadata": {},
   "outputs": [
    {
     "data": {
      "text/plain": [
       "SiegelslopesResult(slope=0.6125, intercept=7.156249999999998)"
      ]
     },
     "execution_count": 9,
     "metadata": {},
     "output_type": "execute_result"
    }
   ],
   "source": [
    "#2nd group option\n",
    "temp = stats.siegelslopes(group1, group2)\n",
    "temp"
   ]
  },
  {
   "cell_type": "code",
   "execution_count": 57,
   "id": "4a11939d",
   "metadata": {},
   "outputs": [
    {
     "data": {
      "text/plain": [
       "PearsonRResult(statistic=0.6042944487169029, pvalue=0.03741819363309839)"
      ]
     },
     "execution_count": 57,
     "metadata": {},
     "output_type": "execute_result"
    }
   ],
   "source": [
    "#The Pearson correlation coefficient [1] measures the linear relationship between two datasets.\n",
    "#Like other correlation coefficients, this one varies between -1 and +1 with 0 implying no correlation. Correlations of -1 or +1 imply an exact linear relationship. Positive correlations imply that as x increases, so does y.\n",
    "#Negative correlations imply that as x increases, y decreases.\n",
    "#assumes normality\n",
    "#alternative{‘two-sided’, ‘greater’, ‘less’}, optional\n",
    "#Defines the alternative hypothesis. Default is ‘two-sided’. The following options are available:\n",
    "#‘two-sided’: the correlation is nonzero\n",
    "#‘less’: the correlation is negative (less than zero)\n",
    "#‘greater’: the correlation is positive (greater than zero)\n",
    "stats.pearsonr(group1, group2, alternative = 'two-sided')"
   ]
  },
  {
   "cell_type": "code",
   "execution_count": 58,
   "id": "930b2bb9",
   "metadata": {},
   "outputs": [
    {
     "data": {
      "text/plain": [
       "SpearmanrResult(correlation=0.5238946258830546, pvalue=0.08041483727916385)"
      ]
     },
     "execution_count": 58,
     "metadata": {},
     "output_type": "execute_result"
    }
   ],
   "source": [
    "#The Spearman rank-order correlation coefficient is a\n",
    "#nonparametric measure of the monotonicity of the relationship between two datasets.\n",
    "stats.spearmanr(group1, group2, alternative = 'two-sided')"
   ]
  },
  {
   "cell_type": "code",
   "execution_count": 63,
   "id": "60c48db1",
   "metadata": {},
   "outputs": [
    {
     "data": {
      "text/plain": [
       "PointbiserialrResult(correlation=0.38254602783800307, pvalue=0.2197146058870111)"
      ]
     },
     "execution_count": 63,
     "metadata": {},
     "output_type": "execute_result"
    }
   ],
   "source": [
    "#The point biserial correlation is used to measure the relationship between a binary variable, x, and a continuous variable, y.\n",
    "#Like other correlation coefficients, this one varies between -1 and +1 with 0 implying no correlation.\n",
    "#Correlations of -1 or +1 imply a determinative relationship.\n",
    "binary = np.array([0,1,0,1,0,1,0,1,0,1,0,1])\n",
    "stats.pointbiserialr(binary, group1)"
   ]
  },
  {
   "cell_type": "code",
   "execution_count": 64,
   "id": "9504e87b",
   "metadata": {},
   "outputs": [
    {
     "data": {
      "text/plain": [
       "KendalltauResult(correlation=0.44801433668816465, pvalue=0.050989245552752346)"
      ]
     },
     "execution_count": 64,
     "metadata": {},
     "output_type": "execute_result"
    }
   ],
   "source": [
    "#Kendall’s tau is a measure of the correspondence between two rankings.\n",
    "#Values close to 1 indicate strong agreement, and values close to -1 indicate strong disagreement.\n",
    "#This implements two variants of Kendall’s tau: tau-b (the default) and tau-c (also known as Stuart’s tau-c).\n",
    "#These differ only in how they are normalized to lie within the range -1 to 1;\n",
    "#the hypothesis tests (their p-values) are identical.\n",
    "stats.kendalltau(stats.rankdata(group1), stats.rankdata(group2))"
   ]
  },
  {
   "cell_type": "code",
   "execution_count": 65,
   "id": "af7c2a6b",
   "metadata": {},
   "outputs": [
    {
     "data": {
      "text/plain": [
       "PageTrendTestResult(statistic=133.5, pvalue=0.0018191161948127822, method='exact')"
      ]
     },
     "execution_count": 65,
     "metadata": {},
     "output_type": "execute_result"
    }
   ],
   "source": [
    "#Perform Page’s Test, a measure of trend in observations between treatments.\n",
    "# Page’s Test (also known as Page’s L test) is useful when:\n",
    "#there are n>=3 treatments,\n",
    "# m>=2 subjects are observed for each treatment, and\n",
    "# the observations are hypothesized to have a particular order.\n",
    "table = [[3, 4, 3],\n",
    "         [2, 2, 4],\n",
    "         [3, 3, 5],\n",
    "         [1, 3, 2],\n",
    "         [2, 3, 2],\n",
    "         [2, 4, 5],\n",
    "         [1, 2, 4],\n",
    "         [3, 4, 4],\n",
    "         [2, 4, 5],\n",
    "         [1, 3, 4]]\n",
    "stats.page_trend_test(table)"
   ]
  },
  {
   "cell_type": "code",
   "execution_count": 67,
   "id": "3fda5819",
   "metadata": {},
   "outputs": [
    {
     "data": {
      "text/plain": [
       "MGCResult(stat=0.2360151561890471, pvalue=0.08091908091908091, mgc_dict={'mgc_map': array([[0.19185285, 0.28602497, 0.2518996 , 0.24732196, 0.24862416,\n",
       "        0.16041522, 0.16643329, 0.17424689, 0.16418518],\n",
       "       [0.17118654, 0.3116986 , 0.30009847, 0.2858222 , 0.28703863,\n",
       "        0.15946294, 0.11389175, 0.14971676, 0.16944862],\n",
       "       [0.19750607, 0.36343037, 0.33101681, 0.3135615 , 0.2857166 ,\n",
       "        0.17261897, 0.08055129, 0.13154217, 0.16790128],\n",
       "       [0.20216724, 0.36477298, 0.31735506, 0.30209427, 0.27728128,\n",
       "        0.10904881, 0.03091771, 0.08174282, 0.12299274],\n",
       "       [0.20475527, 0.36924123, 0.30661134, 0.25501252, 0.2293996 ,\n",
       "        0.05670138, 0.00356529, 0.03807131, 0.06784444],\n",
       "       [0.20119337, 0.34605723, 0.28819082, 0.27332675, 0.24814625,\n",
       "        0.09216183, 0.02094429, 0.06258639, 0.16673937],\n",
       "       [0.20146937, 0.32082322, 0.26840464, 0.24893448, 0.21541354,\n",
       "        0.08391331, 0.01546718, 0.13961871, 0.24445396],\n",
       "       [0.20149299, 0.32476147, 0.28046873, 0.24433009, 0.22675621,\n",
       "        0.09153878, 0.01828027, 0.13654703, 0.23601516]]), 'opt_scale': [8, 9], 'null_dist': array([ 4.03526380e-02, -8.23958238e-02,  3.02314026e-01,  1.06210495e-01,\n",
       "        1.91913912e-01,  7.13705128e-02, -9.20980974e-02, -3.41784639e-02,\n",
       "        2.36529671e-01,  2.50127554e-01, -7.97497491e-02,  1.66849706e-02,\n",
       "        1.83755182e-03,  5.23334759e-02, -5.27744884e-02,  1.67070212e-01,\n",
       "       -2.20506219e-02, -6.00511936e-02, -6.54903470e-02,  1.81476618e-01,\n",
       "       -1.19220362e-01, -8.08522802e-04, -1.10988130e-01, -3.71185468e-02,\n",
       "        1.71627340e-01, -6.41673097e-02, -7.01944797e-02, -7.93087367e-02,\n",
       "        1.47077648e-01,  9.66552259e-02, -3.13853851e-02,  8.89375082e-02,\n",
       "        2.49833546e-01, -1.12090661e-01, -9.90072922e-02,  1.64718145e-01,\n",
       "       -1.26203059e-01,  7.57071351e-03,  4.44687541e-02,  6.24767620e-02,\n",
       "       -1.64350635e-01, -8.33513507e-02,  1.81770626e-01,  6.54903470e-02,\n",
       "       -1.65453166e-01, -1.19514371e-01,  2.20506219e-01,  5.73316169e-02,\n",
       "       -1.40462461e-01, -1.52149291e-02,  1.04593450e-01,  4.99329661e-01,\n",
       "       -1.23630487e-01,  1.77875016e-02, -5.84341480e-02,  6.37777487e-01,\n",
       "        7.42370937e-03, -7.01944797e-02, -1.60749034e-01, -1.09885599e-01,\n",
       "        1.30907192e-01, -7.46046040e-02,  1.08709566e-01, -3.90296007e-02,\n",
       "       -1.10179607e-01,  1.77507506e-01,  5.80666376e-03, -5.60820816e-02,\n",
       "       -4.87318744e-02, -9.82722715e-02, -5.18189614e-02,  1.70157299e-01,\n",
       "        4.58211923e-01, -1.42079507e-01, -8.23958238e-02, -2.95478333e-02,\n",
       "       -4.15286712e-02,  4.73353350e-02,  1.16868296e-02, -1.40535963e-01,\n",
       "       -6.98269693e-03, -1.43329042e-02, -1.34949806e-01, -3.75595593e-02,\n",
       "       -5.53470609e-02, -6.91654506e-02, -8.19548113e-02,  2.03674244e-01,\n",
       "       -3.85150862e-02, -7.80592015e-02, -6.19622475e-02, -5.87281563e-02,\n",
       "       -1.03564421e-01, -1.03858429e-01, -1.02094379e-01, -2.42556841e-03,\n",
       "       -8.37923631e-02, -8.26898321e-02,  3.59939651e-01,  2.80336906e-01,\n",
       "       -4.06466463e-02, -9.75372508e-02, -1.26938080e-01, -1.37081366e-01,\n",
       "       -1.41711997e-01,  1.08562562e-01,  2.82321462e-01,  3.05327611e-01,\n",
       "       -6.78424133e-02,  1.09150578e-01,  9.29801223e-02, -1.21204918e-01,\n",
       "       -1.26497068e-01, -9.82722715e-02,  4.40865433e-01, -1.13928213e-01,\n",
       "       -1.56779922e-01, -6.74014009e-02, -1.01653367e-01, -1.30025167e-01,\n",
       "       -1.08415558e-01,  1.52810810e-01,  6.27707703e-02,  8.27633341e-02,\n",
       "       -9.55526948e-04, -7.76916911e-02,  4.41747458e-02, -5.37300153e-02,\n",
       "       -1.85225224e-02, -4.07936505e-02,  2.08084368e-01, -6.22562558e-02,\n",
       "        4.36969824e-01,  2.22931787e-01,  2.92464748e-01,  8.15873010e-02,\n",
       "        1.94045473e-02, -8.60709274e-02, -1.23703989e-01,  3.49428855e-01,\n",
       "       -1.80815099e-02, -1.18999856e-01,  2.20506219e-03, -6.20357496e-02,\n",
       "       -8.73939647e-02, -1.58911482e-01, -9.86397819e-02, -4.88053764e-02,\n",
       "        1.35464320e-01,  3.94706132e-02,  7.71036745e-02,  5.78461314e-02,\n",
       "       -5.31419987e-02, -1.48768196e-01, -9.68022301e-02, -9.01135414e-02,\n",
       "        6.02202484e-01,  1.27379092e-01, -1.42300013e-01, -1.01432861e-01,\n",
       "        1.25174030e-01, -8.15137989e-02, -7.18115253e-02, -2.08010866e-02,\n",
       "       -8.15873010e-03, -1.27526097e-01,  2.92170740e-01, -1.84710709e-01,\n",
       "        1.17970827e-01,  6.49023304e-02, -1.10032603e-01, -4.29987127e-02,\n",
       "        1.47812669e-01, -1.72435863e-01, -9.72432425e-02,  1.92501929e-01,\n",
       "        7.84267118e-02, -5.84341480e-02,  3.71185468e-02, -9.48176741e-03,\n",
       "        1.59720004e-01, -7.42370937e-03, -1.43329042e-02,  6.59313594e-02,\n",
       "        1.01138852e-01, -1.09959101e-01,  7.08192473e-01,  3.74860572e-02,\n",
       "       -3.40314598e-02,  1.30025167e-01,  1.25174030e-01,  5.54940651e-02,\n",
       "       -5.18189614e-02, -1.07680537e-01,  5.31419987e-02, -7.64421559e-02,\n",
       "        6.86509361e-02, -1.19808379e-02, -1.14001715e-01,  3.34360930e-01,\n",
       "        1.53619332e-02,  2.98418416e-02, -8.28368362e-02,  7.50456165e-02,\n",
       "        9.04075497e-03, -2.18301157e-02, -1.21498927e-01, -1.01212354e-01,\n",
       "        7.42370937e-03, -5.79931355e-02, -7.12970107e-03, -3.96911194e-02,\n",
       "       -8.01907616e-02, -1.41417988e-01, -6.18152433e-02, -9.76842549e-02,\n",
       "       -1.45387100e-01, -1.21792935e-01,  1.95221506e-01,  1.75449448e-01,\n",
       "       -9.04810518e-02,  1.55897897e-01,  1.50458743e-01, -2.41086799e-02,\n",
       "        7.94557408e-02,  1.58029457e-02, -2.88863147e-02, -1.27673101e-01,\n",
       "        1.04372944e-01, -6.44613180e-02, -7.40165874e-02,  9.50381803e-02,\n",
       "       -4.13081650e-02,  3.54132987e-01, -2.82982981e-02, -4.08671526e-02,\n",
       "        2.69091089e-01, -1.07974545e-01, -1.33773773e-01,  1.19220362e-01,\n",
       "       -3.19734017e-02, -1.27526097e-01,  2.21241240e-01, -8.91580145e-02,\n",
       "       -6.86509361e-02, -1.07239524e-01,  2.52185612e-01, -1.11796653e-01,\n",
       "       -1.41197482e-01, -1.28702130e-01, -9.68022301e-02,  2.05805804e-02,\n",
       "       -2.52112110e-02, -8.88640062e-02, -1.91987415e-01,  1.40609466e-01,\n",
       "        1.28114113e-01, -5.71846127e-02, -2.50642069e-02, -1.02976404e-01,\n",
       "       -2.49172027e-02,  1.06578006e-02, -5.38770195e-02, -1.11796653e-01,\n",
       "        4.71889108e-01,  4.18226795e-02, -5.96836832e-02, -1.48400685e-01,\n",
       "       -1.02167881e-02,  1.59425996e-01, -1.61851565e-01, -8.87170020e-02,\n",
       "       -2.55052193e-02,  8.82024875e-04,  1.22307449e-01,  1.19808379e-02,\n",
       "       -4.62328039e-02, -2.05952808e-01, -1.21498927e-01,  4.01321318e-02,\n",
       "       -7.35020729e-03, -3.33699411e-02, -4.87318744e-02,  4.91149136e-01,\n",
       "        9.95218068e-02, -8.06317740e-02,  1.02167881e-01, -3.35169453e-02,\n",
       "        9.84192757e-02,  1.10253109e-02, -1.12605176e-01, -1.28408121e-01,\n",
       "       -1.07166022e-01, -9.63612176e-02, -3.42519660e-02, -9.06280559e-02,\n",
       "        5.65965962e-03, -8.52624046e-02, -1.38992420e-01, -4.33662230e-02,\n",
       "       -1.10179607e-01,  3.46194764e-02, -7.45311020e-02, -9.55526948e-02,\n",
       "        2.55787214e-02, -7.81327035e-02, -1.47739167e-01, -1.14883740e-01,\n",
       "       -1.39580437e-01, -1.37742885e-01,  5.20669937e-01, -8.63649357e-02,\n",
       "       -8.40128694e-02, -9.50381803e-02,  3.03269553e-01, -9.21715995e-02,\n",
       "       -6.29177744e-02, -1.93236950e-01, -1.32744744e-01, -5.16719573e-02,\n",
       "        2.31531530e-02,  1.70965822e-01,  5.29949946e-02,  2.52259114e-01,\n",
       "       -1.36199341e-01, -6.20357496e-02,  3.88825966e-02,  2.44761903e-02,\n",
       "        4.75558412e-02, -8.94520228e-02,  5.85279676e-01,  1.56559415e-02,\n",
       "       -1.37963391e-01, -1.46563133e-01,  1.09003574e-01, -1.23336478e-01,\n",
       "        6.68868864e-03, -1.50899756e-01,  1.40462461e-01, -1.39139424e-01,\n",
       "        4.28517085e-02,  6.99739734e-02,  1.09591591e-01, -1.09591591e-01,\n",
       "       -2.94008292e-04,  3.45459743e-03, -8.91580145e-02, -4.10141567e-02,\n",
       "       -8.45273839e-03,  1.14295723e-01, -8.92315165e-02, -4.03526380e-02,\n",
       "        1.25321034e-01, -1.37742885e-01, -1.01212354e-01,  1.11355640e-01,\n",
       "       -3.29289287e-02, -4.70413267e-02,  1.30466179e-01, -6.04922060e-02,\n",
       "        3.15323893e-02,  4.23371940e-02,  8.15873010e-02, -1.83681680e-01,\n",
       "       -8.63649357e-02, -7.67361641e-02,  2.46893463e-01,  3.72655510e-02,\n",
       "       -7.47516082e-02,  1.73391390e-01,  1.39359930e-01, -1.43255540e-01,\n",
       "        2.45717430e-01, -1.22086943e-01,  2.54023164e-01, -1.60675531e-01,\n",
       "       -1.28040611e-01,  6.07862143e-02,  9.03340476e-02, -8.82024875e-02,\n",
       "        7.82062056e-02,  4.31310164e-01, -1.40315457e-01,  3.51339909e-02,\n",
       "       -5.81401397e-02,  2.69017587e-02, -1.03637923e-01, -8.15137989e-02,\n",
       "       -1.67584726e-02,  5.48901865e-01, -1.61043042e-01,  5.99280274e-01,\n",
       "        3.85885883e-02, -5.88751604e-02,  5.36565132e-03, -1.28628628e-02,\n",
       "       -1.98455597e-03, -4.18961816e-03, -1.77139996e-02,  6.76219071e-02,\n",
       "        4.64533101e-02, -4.00586297e-02,  2.57992276e-02, -6.10067205e-03,\n",
       "       -1.56485913e-01,  3.30759328e-02,  1.33700271e-01, -1.88900327e-02,\n",
       "       -3.93971111e-02,  5.23376602e-01, -5.80666376e-03,  6.31382806e-02,\n",
       "       -8.88640062e-02,  1.02167881e-02, -7.21055335e-02, -1.79639066e-01,\n",
       "       -3.16058914e-03, -4.26312023e-02,  5.24069780e-02,  3.07973686e-02,\n",
       "        1.90296867e-01,  2.35941654e-02, -3.40314598e-02,  8.34248528e-02,\n",
       "        2.63063919e-01,  6.67398822e-02, -1.44946088e-01, -1.36272843e-01,\n",
       "       -1.02755898e-01,  8.91580145e-02, -1.21057914e-01,  1.02461890e-01,\n",
       "       -1.07019018e-01, -1.32450735e-01,  7.18115253e-02,  2.58065778e-01,\n",
       "        1.57735449e-01, -1.23703989e-01, -6.31382806e-02,  1.51267266e-01,\n",
       "        3.09443727e-02, -1.51193764e-01, -1.18852852e-01,  1.78610037e-01,\n",
       "       -1.71553838e-01, -7.68096662e-02, -1.57000428e-01, -1.15765765e-01,\n",
       "        1.39653939e-02, -1.13928213e-02,  1.69054768e-03, -7.32080646e-02,\n",
       "        6.42408117e-02, -1.36419847e-01, -6.49023304e-02, -9.04810518e-02,\n",
       "       -1.13119690e-01, -1.83314170e-01,  4.99079075e-02, -6.99004714e-02,\n",
       "       -8.62179316e-02, -1.35905333e-01,  2.29326468e-02,  1.87430286e-02,\n",
       "        4.06980978e-01,  1.05034462e-01, -8.29838403e-02, -5.69641065e-02,\n",
       "        1.01212354e-01,  9.97423130e-02,  6.29912765e-02, -8.41598735e-02,\n",
       "       -2.40351778e-02,  5.41048392e-01, -1.82358643e-01, -1.57367938e-01,\n",
       "       -9.98893171e-02, -5.36565132e-03,  6.88714423e-02, -2.39616758e-02,\n",
       "       -8.09992844e-02, -1.49576718e-01, -8.21018155e-02,  5.94136007e-01,\n",
       "       -1.17088802e-01,  2.59535820e-01, -6.93124548e-02,  4.90993847e-02,\n",
       "        7.51191185e-02,  3.96323177e-01, -1.02829400e-01, -1.26938080e-01,\n",
       "       -8.79819813e-02,  1.37228370e-01, -1.39433432e-01, -1.44872586e-01,\n",
       "        3.12383810e-02, -8.89375082e-03,  8.66589440e-02, -1.54501357e-01,\n",
       "       -5.36565132e-03, -1.65085656e-01, -6.48288283e-02, -2.10215929e-02,\n",
       "       -2.63872442e-02,  5.38770195e-02, -4.15286712e-02, -3.86620904e-02,\n",
       "        1.13560703e-01,  1.24953524e-03, -9.81987694e-02,  8.79084792e-02,\n",
       "       -8.09257823e-02, -7.93087367e-02, -6.65193760e-02, -1.02094379e-01,\n",
       "       -1.14442728e-01, -1.36640354e-01, -6.98269693e-02, -1.18999856e-01,\n",
       "        6.09332185e-02,  6.54903470e-02,  1.18411839e-01,  1.79639066e-01,\n",
       "       -1.12090661e-01, -1.30980694e-01,  3.09443727e-02, -1.29584155e-01,\n",
       "       -1.39139424e-01, -1.36346345e-01,  5.19659656e-02, -1.02976404e-01,\n",
       "       -2.06540825e-02, -1.19734877e-01,  2.71957670e-03,  1.53545830e-01,\n",
       "       -5.56410692e-02,  7.82797077e-02, -2.80042898e-02,  2.46452451e-01,\n",
       "       -2.10950949e-02,  9.55526948e-04,  4.18961816e-02, -1.58984984e-01,\n",
       "       -1.29143142e-01, -1.15177748e-01, -1.36052337e-01, -1.44872586e-01,\n",
       "       -1.12531674e-01,  5.79503976e-01,  4.76293433e-02,  2.06320319e-01,\n",
       "       -4.77028453e-02,  7.06354921e-02,  9.84192757e-02,  2.19036177e-02,\n",
       "       -8.40128694e-02,  2.06026310e-01,  4.62194280e-01, -8.62179316e-02,\n",
       "       -1.43108536e-01,  8.29838403e-02, -3.88090945e-02, -1.27232088e-01,\n",
       "       -6.68133843e-02,  2.50642069e-02, -1.71333332e-01, -1.55897897e-01,\n",
       "        2.65342483e-02, -1.81035606e-01, -5.89486625e-02, -1.85225224e-02,\n",
       "        2.51891604e-01,  3.27819245e-02, -1.85372228e-01,  2.08010866e-02,\n",
       "       -1.38918918e-01,  1.78389531e-01,  8.49683963e-02, -1.73464892e-02,\n",
       "       -7.45311020e-02, -8.85699979e-02, -1.00697840e-01,  8.25428279e-02,\n",
       "        2.94743312e-02,  6.73333131e-01,  5.88016583e-04,  8.59974253e-03,\n",
       "       -1.12972686e-01, -1.28702130e-01,  2.66812525e-02,  3.42005145e-01,\n",
       "        5.06497898e-01, -6.25502641e-02,  2.51891604e-01, -5.53470609e-02,\n",
       "        2.55199197e-01,  2.99814955e-01, -1.49429714e-01,  2.05070783e-02,\n",
       "       -1.05475475e-01,  1.06136993e-01, -6.34322889e-02, -4.45422562e-02,\n",
       "        3.26349204e-02, -1.13634205e-01, -7.23260398e-02, -7.20320315e-02,\n",
       "        1.73317888e-01,  2.14479049e-01,  5.73316169e-03, -7.16645211e-02,\n",
       "       -1.35170312e-01, -1.68760759e-01, -2.02865721e-02, -4.03526380e-02,\n",
       "       -5.97571853e-02,  7.74711849e-02,  2.66812525e-02,  1.35611325e-01,\n",
       "        1.52149291e-02, -1.08783068e-01, -1.37228370e-01,  6.39468035e-03,\n",
       "       -5.32890029e-02,  9.95953088e-02, -1.49209208e-02,  2.79307877e-03,\n",
       "        9.48911762e-02,  4.13081650e-02, -3.77065634e-02,  1.28261117e-01,\n",
       "       -8.67324461e-02, -9.62877155e-03, -4.84378661e-02, -1.18705848e-01,\n",
       "       -1.66114685e-01,  2.06540825e-02,  1.98161589e-01, -1.72656369e-01,\n",
       "       -9.70227363e-03, -9.40826534e-02,  1.24953524e-03,  4.26312023e-02,\n",
       "        2.64607463e-03,  7.86472180e-03,  3.61630199e-02,  4.29252106e-02,\n",
       "       -8.93785207e-02, -6.71808947e-02,  6.40610942e-01,  5.75755221e-01,\n",
       "        2.16831115e-02, -6.74014009e-02,  1.75375946e-01, -5.79931355e-02,\n",
       "       -4.96138992e-02, -9.03340476e-02,  3.37742025e-01, -1.43990561e-01,\n",
       "       -1.30172171e-01, -1.22380951e-01,  9.23921057e-02, -1.42594021e-02,\n",
       "        7.85002139e-02,  3.34507934e-01, -9.33476326e-03,  1.34508793e-01,\n",
       "       -1.27820105e-01, -2.47701986e-02, -1.72950378e-01, -9.18775912e-02,\n",
       "       -1.46269125e-02,  1.50017731e-01,  1.98235091e-01, -6.43143138e-02,\n",
       "        4.18226795e-02, -1.39653939e-03, -1.70304303e-01, -1.57735449e-01,\n",
       "        2.86658084e-03, -5.05694262e-02, -1.11870155e-01, -7.27670522e-02,\n",
       "        3.26202200e-01,  2.45423422e-01,  1.93310452e-02,  1.15986271e-01,\n",
       "        2.09333904e-01, -1.49503216e-01,  4.92463889e-03, -1.44211067e-01,\n",
       "       -2.71957670e-03,  1.44799084e-02, -1.62807092e-01,  6.72543967e-02,\n",
       "       -1.05916487e-01, -4.13081650e-02,  1.27673101e-01, -8.56299150e-02,\n",
       "        1.01065350e-01,  9.48176741e-03, -1.09591591e-01, -1.36125839e-01,\n",
       "       -8.87170020e-02, -4.96138992e-02, -7.84267118e-02,  1.41197482e-01,\n",
       "       -1.39653939e-03, -4.32927210e-02, -9.18040891e-02, -1.21939939e-01,\n",
       "        3.99116256e-02, -8.89375082e-03,  3.41784639e-02, -5.87281563e-02,\n",
       "        1.84490203e-02,  2.38514227e-01,  4.09406546e-02, -1.55089374e-01,\n",
       "        1.14663234e-02, -1.13413699e-01,  4.66738163e-02,  1.35096810e-01,\n",
       "        2.57257255e-03, -1.80741597e-01, -1.25174030e-01, -1.00697840e-01,\n",
       "        4.33662230e-03, -1.20175889e-01, -4.65268122e-02,  1.33626769e-01,\n",
       "        1.60896038e-01,  7.52661227e-02,  1.46416129e-01, -9.01870435e-02,\n",
       "       -3.88090945e-02,  4.32927210e-02, -8.29838403e-02,  4.18961816e-03,\n",
       "        2.44026882e-01, -3.37374515e-02,  2.44908907e-01, -1.14736736e-01,\n",
       "        8.59239233e-02, -6.43878159e-02, -9.59202052e-02, -4.70413267e-03,\n",
       "       -1.56779922e-01, -1.31127698e-01,  5.53470609e-02,  4.35646786e-01,\n",
       "       -7.60746455e-02,  4.77395964e-01, -9.81252674e-02,  1.35978835e-02,\n",
       "        3.67216356e-01, -1.28849134e-01, -1.65894179e-01,  1.20469898e-01,\n",
       "        3.39579577e-02,  5.97571853e-02,  1.25615043e-01,  1.33332760e-01,\n",
       "       -1.36493349e-01, -1.91472900e-01, -5.38770195e-02, -1.26203059e-01,\n",
       "       -6.06392102e-02,  5.83606459e-02, -7.85737160e-02,  2.05144286e-01,\n",
       "       -1.75081938e-01, -9.30536243e-02, -1.52149291e-02,  8.87170020e-02,\n",
       "       -1.83755182e-03, -5.54940651e-02,  9.20980974e-02,  7.59276413e-02,\n",
       "       -2.59462317e-02, -6.16682392e-02, -9.70227363e-03, -1.16206777e-01,\n",
       "        6.97607696e-01, -1.24365507e-01,  2.05144286e-01,  9.16570849e-02,\n",
       "       -1.03637923e-01, -1.01873873e-01, -1.72435863e-01, -1.26203059e-01,\n",
       "        5.04959241e-02,  4.97829540e-01,  9.72432425e-02,  1.03196910e-01,\n",
       "       -8.93050186e-02, -1.06210495e-01,  8.59239233e-02, -7.34285709e-02,\n",
       "       -8.84229937e-02, -3.21204059e-02, -1.65379664e-02,  3.45459743e-03,\n",
       "       -1.29437150e-01, -1.08121549e-01,  1.27526097e-01, -7.93822388e-02,\n",
       "        2.89451163e-01, -6.40203055e-02, -1.19220362e-01, -1.11576147e-01,\n",
       "       -7.12970107e-03, -1.31789217e-01,  1.10988130e-02, -2.13891032e-02,\n",
       "        2.32707563e-01, -1.08121549e-01,  1.77139996e-02, -4.60122977e-02,\n",
       "        1.97867580e-01, -4.46157583e-02,  2.16096094e-02,  1.04299441e-01,\n",
       "       -9.35681388e-02, -8.00437574e-02, -1.02682396e-01,  2.85923064e-02,\n",
       "        4.50567707e-02, -1.25027026e-01,  1.05769483e-01, -1.20543400e-02,\n",
       "       -6.25502641e-02, -7.51926206e-02,  4.15948231e-01,  1.84490203e-02,\n",
       "       -1.04740454e-01,  2.23593306e-01, -1.38477905e-01,  4.31457168e-02,\n",
       "        5.34360070e-02, -1.12384670e-01, -3.03563561e-02,  3.16720432e-01,\n",
       "        3.01358499e-03,  1.14148719e-01, -1.29878163e-01, -6.39468035e-02,\n",
       "       -9.87867860e-02, -1.07313026e-02, -1.07533533e-01, -1.96618045e-01,\n",
       "        1.17382810e-01, -9.60672093e-02, -2.99888458e-02,  1.78316029e-01,\n",
       "       -3.28554266e-02,  4.06466463e-02,  4.77028453e-02, -1.25688545e-02,\n",
       "       -7.54866289e-02,  6.13742309e-02,  2.13817530e-01,  2.92464748e-01,\n",
       "       -1.50238237e-01,  2.57257255e-03,  1.16941798e-01,  7.35755750e-02,\n",
       "       -1.66923208e-01,  2.24989845e-01, -1.10988130e-01,  6.31107776e-01,\n",
       "        5.96836832e-02, -2.06540825e-02, -6.29912765e-02, -4.34397251e-02,\n",
       "        4.32927210e-02,  4.42482479e-02, -1.13413699e-01,  3.96911194e-03,\n",
       "       -6.01981977e-02, -3.46929784e-02,  6.79159154e-02, -1.58102959e-01,\n",
       "        1.98455597e-02, -4.93198909e-02, -1.13928213e-02,  1.83755182e-03,\n",
       "        4.62328039e-02, -1.48915200e-01, -1.08195051e-01,  1.02535392e-01,\n",
       "       -5.31419987e-02, -6.53433428e-02, -1.02535392e-01,  2.28517945e-01,\n",
       "       -7.71036745e-02,  8.37923631e-03,  5.40240236e-02, -1.68172743e-01,\n",
       "       -1.00991848e-01, -1.32891748e-01,  2.51156583e-01,  3.82210779e-02,\n",
       "       -1.91840410e-02,  1.74199913e-02, -1.20910910e-01, -1.71994851e-02,\n",
       "        8.11462885e-02, -1.19955383e-01,  6.01246957e-02,  8.82759896e-02,\n",
       "        2.17345630e-01, -1.59499498e-02, -1.78169025e-01,  4.35867292e-02,\n",
       "       -5.37300153e-02, -1.46048619e-01,  3.75595593e-02, -5.44650360e-02,\n",
       "        3.33037892e-01,  1.49209208e-02, -9.08485621e-02, -1.11943657e-01,\n",
       "       -4.63063059e-02,  2.20285713e-01, -1.12458172e-01,  7.62216496e-02,\n",
       "        1.27379092e-01, -1.47518660e-01, -4.88053764e-02, -2.40351778e-02,\n",
       "       -1.40756470e-01, -7.04884879e-02,  3.28995278e-01, -3.88825966e-02,\n",
       "       -8.19548113e-02, -1.09444587e-01,  3.13118831e-02, -3.78535676e-02,\n",
       "        5.84341480e-02, -2.64607463e-03, -5.62290858e-02, -1.21939939e-01,\n",
       "       -7.03414838e-02,  1.25321034e-01, -1.79933075e-01,  2.56081222e-01,\n",
       "       -1.72509365e-01,  6.35057910e-02, -1.35905333e-01,  5.39962714e-01,\n",
       "       -5.99041894e-02,  5.14514511e-03, -6.54903470e-02, -1.56926926e-01,\n",
       "        1.91105390e-02, -3.35169453e-02,  4.96138992e-02, -1.36860860e-01,\n",
       "        1.98455597e-03, -1.25174030e-01,  3.30759328e-03,  1.01579865e-01,\n",
       "        9.36416409e-02, -8.60709274e-02, -6.63723719e-02, -1.38918918e-01,\n",
       "       -1.29584155e-01, -9.24656078e-02, -6.62253677e-02,  3.60895178e-02,\n",
       "       -1.25247532e-01,  6.73058482e-01, -4.90258826e-02, -5.06429283e-02,\n",
       "       -1.19367366e-01,  6.53433428e-02, -8.90110103e-02,  2.76514798e-01,\n",
       "        3.48914340e-01, -1.45975117e-01, -4.68208205e-02, -9.47441720e-02,\n",
       "        1.63542112e-01, -4.10141567e-02,  3.15323893e-02,  5.83375951e-01,\n",
       "        2.28223936e-01,  4.02056339e-02, -1.23262976e-01,  1.71259830e-02,\n",
       "       -2.84453022e-02,  3.32229370e-02,  1.83755182e-03,  2.12273987e-01,\n",
       "       -1.41638495e-01, -1.42226511e-01,  6.28442724e-02, -2.15361074e-02])})"
      ]
     },
     "execution_count": 67,
     "metadata": {},
     "output_type": "execute_result"
    }
   ],
   "source": [
    "#Specifically, for each point, MGC finds the \n",
    "#-nearest neighbors for one property (e.g. cloud density), and the \n",
    "#-nearest neighbors for the other property (e.g. grass wetness) [1]. This pair is called the “scale”.\n",
    "#A priori, however, it is not know which scales will be most informative.\n",
    "#So, MGC computes all distance pairs, and then efficiently computes the distance correlations for all scales.\n",
    "#The local correlations illustrate which scales are relatively informative about the relationship.\n",
    "#The key, therefore, to successfully discover and decipher relationships between disparate data modalities is to\n",
    "#adaptively determine which scales are the most informative, and the geometric implication for the most informative scales.\n",
    "#Doing so not only provides an estimate of whether the modalities are related,\n",
    "#but also provides insight into how the determination was made.\n",
    "#This is especially important in high-dimensional data, where simple visualizations do not reveal relationships to the unaided human eye.\n",
    "stats.multiscale_graphcorr(group1, group2)"
   ]
  },
  {
   "cell_type": "code",
   "execution_count": null,
   "id": "62927f27",
   "metadata": {},
   "outputs": [],
   "source": []
  }
 ],
 "metadata": {
  "kernelspec": {
   "display_name": "Python 3 (ipykernel)",
   "language": "python",
   "name": "python3"
  },
  "language_info": {
   "codemirror_mode": {
    "name": "ipython",
    "version": 3
   },
   "file_extension": ".py",
   "mimetype": "text/x-python",
   "name": "python",
   "nbconvert_exporter": "python",
   "pygments_lexer": "ipython3",
   "version": "3.8.15"
  }
 },
 "nbformat": 4,
 "nbformat_minor": 5
}
